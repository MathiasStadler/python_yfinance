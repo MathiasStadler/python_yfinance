{
 "cells": [
  {
   "cell_type": "markdown",
   "metadata": {},
   "source": [
    "[FROM HERE](https://ranaroussi.github.io/yfinance/index.html)"
   ]
  },
  {
   "cell_type": "markdown",
   "metadata": {},
   "source": [
    "# [create env](https://docs.python.org/3/library/venv.html)\n",
    "\n",
    "python3 -m venv venv\n",
    "\n",
    "# activate venv\n",
    "\n",
    "source .venv/bin/activate\n",
    "\n",
    "# show installed python packages\n",
    "\n",
    "pip3 list\n",
    "\n",
    "# install additional package\n",
    "\n",
    "pip3 install yfinance"
   ]
  },
  {
   "cell_type": "code",
   "execution_count": 1,
   "metadata": {},
   "outputs": [],
   "source": [
    "import yfinance as yf\n",
    "dat = yf.Ticker(\"MSFT\")\n",
    "dat.info\n",
    "dat.calendar\n",
    "dat.analyst_price_targets\n",
    "dat.quarterly_income_stmt\n",
    "dat.history(period='1mo')\n",
    "dat.option_chain(dat.options[0]).calls"
   ]
  }
 ],
 "metadata": {
  "kernelspec": {
   "display_name": ".venv",
   "language": "python",
   "name": "python3"
  },
  "language_info": {
   "codemirror_mode": {
    "name": "ipython",
    "version": 3
   },
   "file_extension": ".py",
   "mimetype": "text/x-python",
   "name": "python",
   "nbconvert_exporter": "python",
   "pygments_lexer": "ipython3",
   "version": "3.11.2"
  }
 },
 "nbformat": 4,
 "nbformat_minor": 2
}
